{
 "metadata": {
  "language_info": {
   "codemirror_mode": {
    "name": "ipython",
    "version": 3
   },
   "file_extension": ".py",
   "mimetype": "text/x-python",
   "name": "python",
   "nbconvert_exporter": "python",
   "pygments_lexer": "ipython3",
   "version": "3.8.5"
  },
  "orig_nbformat": 2,
  "kernelspec": {
   "name": "python385jvsc74a57bd031f2aee4e71d21fbe5cf8b01ff0e069b9275f58929596ceb00d14d90e3e16cd6",
   "display_name": "Python 3.8.5 64-bit"
  },
  "metadata": {
   "interpreter": {
    "hash": "31f2aee4e71d21fbe5cf8b01ff0e069b9275f58929596ceb00d14d90e3e16cd6"
   }
  }
 },
 "nbformat": 4,
 "nbformat_minor": 2,
 "cells": [
  {
   "source": [
    "import pandas as pd\n",
    "import numpy as np\n",
    "import matplotlib.pyplot as plt\n",
    "import grid\n",
    "from itertools import product"
   ],
   "cell_type": "code",
   "metadata": {},
   "execution_count": 1,
   "outputs": []
  },
  {
   "cell_type": "code",
   "execution_count": 2,
   "metadata": {},
   "outputs": [],
   "source": [
    "pois=pd.read_csv(\"pois.csv\",sep=\" \")"
   ]
  },
  {
   "cell_type": "code",
   "execution_count": 3,
   "metadata": {},
   "outputs": [
    {
     "output_type": "execute_result",
     "data": {
      "text/plain": [
       "False"
      ]
     },
     "metadata": {},
     "execution_count": 3
    }
   ],
   "source": [
    "pois[\"poi_id\"].duplicated().any()"
   ]
  },
  {
   "cell_type": "code",
   "execution_count": 4,
   "metadata": {},
   "outputs": [
    {
     "output_type": "execute_result",
     "data": {
      "text/plain": [
       "(46.566500000000005, 6.645)"
      ]
     },
     "metadata": {},
     "execution_count": 4
    }
   ],
   "source": [
    "# Client-side protection\n",
    "def defense(lat,lon,param=1):\n",
    "    \"\"\"param is the penalization exponent for the utility\"\"\"\n",
    "    # Get the current indices that the user is in\n",
    "    i,j=grid.location_to_cell_indices(lat,lon)\n",
    "    # Get all possible indices of the grids\n",
    "    all_indices=product(range(1,grid.CELL_NUM_LAT+1),range(1,grid.CELL_NUM_LON+1))\n",
    "    # Get the Euclidian distance of the current location to other indices\n",
    "    distance=np.zeros(100)\n",
    "    for index,item in enumerate(all_indices):\n",
    "        distance[index]=np.sqrt((item[0]-i)**2 + (item[1]-j)**2)\n",
    "    # Define the utility as 1/(1+distance)**param to avoid dividing by zero\n",
    "    utility=1/(1+distance)**param\n",
    "    # Normalize the probabilities\n",
    "    probabilities=utility/np.sum(utility)\n",
    "    # Choose the indices w.r.t. these probabilities\n",
    "    choice=np.random.choice(np.arange(100),p=probabilities)\n",
    "    # Get the private indices after applying the defense mechanism\n",
    "    i_private,j_private=choice//10+1,choice%10+1\n",
    "    # Return the representative coordinates for the grid. This is what the client will request from the server.\n",
    "    # print(i,j)\n",
    "    # print(i_private,j_private)\n",
    "    # print(grid.location_to_cell_representative(lat,lon))\n",
    "    return grid.index_to_cell_representative(i_private-1,j_private-1)\n",
    "\n",
    "defense(46.568819955744104,6.64294176710424,param=10)"
   ]
  },
  {
   "cell_type": "code",
   "execution_count": null,
   "metadata": {},
   "outputs": [],
   "source": []
  }
 ]
}